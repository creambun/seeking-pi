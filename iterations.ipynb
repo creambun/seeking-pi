{
 "cells": [
  {
   "cell_type": "code",
   "execution_count": 1,
   "id": "325ea488-7167-47bc-91c2-cc33cfcf2a93",
   "metadata": {},
   "outputs": [
    {
     "name": "stdout",
     "output_type": "stream",
     "text": [
      "      n    chord        factor     half cord     rough pi  \n",
      "      4    1.4142136  0.5000000    0.7653669    3.0614675  \n",
      "      8    0.7653669  0.1464466    0.3901806    3.1214452  \n",
      "     16    0.3901806  0.0380602    0.1960343    3.1365485  \n",
      "     32    0.1960343  0.0096074    0.0981353    3.1403312  \n",
      "     64    0.0981353  0.0024076    0.0490825    3.1412773  \n",
      "    128    0.0490825  0.0006023    0.0245431    3.1415138  \n",
      "    256    0.0245431  0.0001506    0.0122718    3.1415729  \n",
      "    512    0.0122718  0.0000376    0.0061359    3.1415877  \n",
      "   1024    0.0061359  0.0000094    0.0030680    3.1415914  \n",
      "   2048    0.0030680  0.0000024    0.0015340    3.1415923  \n",
      "   4096    0.0015340  0.0000006    0.0007670    3.1415926  \n"
     ]
    }
   ],
   "source": [
    "import math\n",
    "\n",
    "def create_tuple(n: int, chord: float) -> tuple:\n",
    "    factor = (chord / 2) ** 2\n",
    "    half_cord = math.sqrt((1 - math.sqrt(1 - factor)) ** 2 + factor)\n",
    "    return (n, chord, factor, half_cord, half_cord * n)\n",
    "\n",
    "last_chord = math.sqrt(2)\n",
    "rows = []\n",
    "for n in range(2, 13):\n",
    "    row = create_tuple(2 ** n, last_chord)\n",
    "    rows.append(row)\n",
    "    last_chord = row[3]\n",
    "\n",
    "print(\"n\".rjust(7), \"chord\".center(12), \"factor\".center(12), \"half cord\".center(12), \"rough pi\".center(12))\n",
    "for n, chord, factor, half_cord, rough_pi in rows:\n",
    "    print(\n",
    "        str(n).rjust(7),\n",
    "        rf\"{chord:.7f}\".rjust(12),\n",
    "        rf\"{factor:.7f}\".center(12),\n",
    "        rf\"{half_cord:.7f}\".center(12),\n",
    "        rf\"{rough_pi:.7f}\".center(12)\n",
    "    )\n"
   ]
  }
 ],
 "metadata": {
  "kernelspec": {
   "display_name": "Python 3 (ipykernel)",
   "language": "python",
   "name": "python3"
  },
  "language_info": {
   "codemirror_mode": {
    "name": "ipython",
    "version": 3
   },
   "file_extension": ".py",
   "mimetype": "text/x-python",
   "name": "python",
   "nbconvert_exporter": "python",
   "pygments_lexer": "ipython3",
   "version": "3.13.1"
  }
 },
 "nbformat": 4,
 "nbformat_minor": 5
}
